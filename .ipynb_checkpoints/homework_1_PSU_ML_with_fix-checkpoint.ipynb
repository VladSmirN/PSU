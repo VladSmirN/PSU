{
 "cells": [
  {
   "cell_type": "code",
   "execution_count": 5,
   "metadata": {},
   "outputs": [
    {
     "name": "stdout",
     "output_type": "stream",
     "text": [
      "1\n",
      "1\n",
      "2\n",
      "3\n",
      "5\n",
      "8\n",
      "13\n",
      "21\n",
      "34\n",
      "55\n",
      "89\n",
      "144\n",
      "233\n",
      "377\n",
      "610\n",
      "987\n",
      "1597\n",
      "2584\n",
      "4181\n",
      "6765\n"
     ]
    }
   ],
   "source": [
    "#Task1\n",
    "N = 20;\n",
    "f1 = 1;\n",
    "f2 = 1;\n",
    "for i in range(N):\n",
    "    print(f2)\n",
    "    fk = f1\n",
    "    f1 = f1 + f2\n",
    "    f2 = fk\n",
    "    \n",
    "    "
   ]
  },
  {
   "cell_type": "code",
   "execution_count": 8,
   "metadata": {},
   "outputs": [],
   "source": [
    "#Только для f1,f2 >= 1\n",
    "def print_fib(f1,f2,max_sum):\n",
    "    while(f2 <= max_sum):\n",
    "        print(f2)\n",
    "        fk = f1\n",
    "        f1 = f1 + f2\n",
    "        f2 = fk    \n",
    "\n"
   ]
  },
  {
   "cell_type": "code",
   "execution_count": 9,
   "metadata": {},
   "outputs": [
    {
     "name": "stdout",
     "output_type": "stream",
     "text": [
      "1\n",
      "1\n",
      "2\n",
      "3\n",
      "5\n",
      "8\n",
      "13\n",
      "21\n",
      "34\n",
      "55\n",
      "89\n",
      "144\n",
      "233\n",
      "377\n",
      "610\n",
      "987\n",
      "1597\n",
      "2584\n",
      "4181\n",
      "6765\n"
     ]
    }
   ],
   "source": [
    "#Test 1\n",
    "print_fib(1,1,6765)"
   ]
  },
  {
   "cell_type": "code",
   "execution_count": 10,
   "metadata": {},
   "outputs": [
    {
     "name": "stdout",
     "output_type": "stream",
     "text": [
      "44\n",
      "34\n",
      "78\n",
      "112\n",
      "190\n",
      "302\n",
      "492\n",
      "794\n",
      "1286\n",
      "2080\n",
      "3366\n",
      "5446\n",
      "8812\n",
      "14258\n",
      "23070\n",
      "37328\n",
      "60398\n",
      "97726\n"
     ]
    }
   ],
   "source": [
    "#Test 2\n",
    "print_fib(34,44,100000)"
   ]
  },
  {
   "cell_type": "code",
   "execution_count": null,
   "metadata": {},
   "outputs": [],
   "source": []
  }
 ],
 "metadata": {
  "kernelspec": {
   "display_name": "Python 3",
   "language": "python",
   "name": "python3"
  },
  "language_info": {
   "codemirror_mode": {
    "name": "ipython",
    "version": 3
   },
   "file_extension": ".py",
   "mimetype": "text/x-python",
   "name": "python",
   "nbconvert_exporter": "python",
   "pygments_lexer": "ipython3",
   "version": "3.8.3"
  }
 },
 "nbformat": 4,
 "nbformat_minor": 4
}
