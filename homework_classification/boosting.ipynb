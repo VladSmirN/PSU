{
 "cells": [
  {
   "cell_type": "code",
   "execution_count": 114,
   "metadata": {},
   "outputs": [],
   "source": [
    "import numpy as np\n",
    "import pandas as pd\n",
    "import xgboost as xgb\n",
    "from sklearn.ensemble import RandomForestClassifier\n",
    "from sklearn.metrics import accuracy_score, confusion_matrix\n",
    "from sklearn.model_selection import GridSearchCV, StratifiedKFold, train_test_split\n",
    "%matplotlib inline\n",
    "import matplotlib.pyplot as plt\n",
    "def prepaer_df(df):\n",
    "    columns = ['time', 'sex', 'child_offence', 'vegan', 'dvach', 'gender', 'rest', 'games', 'series', 'books', 'antisemetism', 'subject', 'crimea', 'putin', 'english', 'old_days','films']\n",
    "    oldColumns = df.columns\n",
    "    df = df.rename(columns=dict(zip(oldColumns, columns)) )\n",
    "    df.time = pd.to_datetime(df.time)\n",
    "    df.loc[df.sex == 'Мальчик' ,['sex']] = 0\n",
    "    df.loc[df.sex == 'Девочка' ,['sex']] = 1\n",
    "    df.loc[df.rest == 'Сычевать' ,['rest']] = 1\n",
    "    df.loc[df.rest == 'Гулять' ,['rest']] = 0\n",
    "    df = pd.get_dummies(df, drop_first=True,columns=['child_offence', 'dvach', 'gender', 'antisemetism', 'subject', 'crimea' ])\n",
    "    df['putin_good'] = 0\n",
    "    df.loc[(df.putin == 'Политик, лидер и боец') | (df.putin == 'Молодец'),['putin_good']]=1\n",
    "    df['rebel'] = 1\n",
    "    df.loc[(df.putin == 'Политик, лидер и боец') | (df.putin == 'Молодец'),['rebel']]=0\n",
    "    df  =df.drop(columns=['putin'])\n",
    "    df['month'] = df['time'].dt.month\n",
    "    df['dayofweek'] = df['time'].dt.dayofweek\n",
    "    df['day'] = df['time'].dt.day\n",
    "    df['hour'] = df['time'].dt.hour\n",
    "    df.loc[df['english'] == 'Оригатоё гайзаймас', ['english']] = 0\n",
    "    df.loc[df['english'] == 'Чуть лучше, чем ничего', ['english']] = 1\n",
    "    df.loc[df['english'] == 'Нормально', ['english']] = 2\n",
    "    df.loc[df['english'] == 'Хорошо', ['english']] = 3\n",
    "    df.loc[df['english'] == 'Отлично', ['english']] = 4\n",
    "    df.loc[df['english'] == 'НЭЙТИВ ИНГЛИШ СПИКЕР', ['english']] = 5\n",
    "    df.loc[df['old_days'] == 'Нет', ['old_days']] = 0\n",
    "    df.loc[df['old_days'] != 'Нет', ['old_days']] = 1\n",
    "    return df"
   ]
  },
  {
   "cell_type": "code",
   "execution_count": 115,
   "metadata": {},
   "outputs": [],
   "source": [
    "df = pd.read_csv(\"form.csv\")\n",
    "df = prepaer_df(df)\n",
    "labels = df[\"films\"]\n",
    "labels = labels.apply(lambda x: 1 if x.find('Аниме')  != -1 else 0)\n",
    "train = df.drop(columns=['films','time'])"
   ]
  },
  {
   "cell_type": "code",
   "execution_count": 116,
   "metadata": {},
   "outputs": [],
   "source": [
    "train= train.astype('int32')  #sex, rest, english, old_days"
   ]
  },
  {
   "cell_type": "code",
   "execution_count": 117,
   "metadata": {},
   "outputs": [],
   "source": [
    "X_train, X_test, y_train, y_test = train_test_split(\n",
    "    train,labels, test_size=0.2, random_state=25\n",
    ")"
   ]
  },
  {
   "cell_type": "code",
   "execution_count": 118,
   "metadata": {
    "scrolled": false
   },
   "outputs": [
    {
     "name": "stdout",
     "output_type": "stream",
     "text": [
      "Training with params:                                 \n",
      "{'colsample_bytree': 0.55, 'eval_metric': 'merror', 'gamma': 0.58, 'learning_rate': 0.01, 'max_depth': 13.0, 'min_child_weight': 6.0, 'nthread': 4, 'num_class': 2, 'num_round': 100, 'objective': 'multi:softprob', 'silent': 1, 'subsample': 0.8500000000000001}\n",
      "[14:54:45] WARNING: ../src/learner.cc:541:            \n",
      "Parameters: { num_round, silent } might not be used.\n",
      "\n",
      "  This may not be accurate due to some parameters are only used in language bindings but\n",
      "  passed down to XGBoost core.  Or some parameters are not used but slip through this\n",
      "  verification. Please open an issue if you find above cases.\n",
      "\n",
      "\n",
      "\tScore 0.5664202652871608                             \n",
      "\n",
      "\n",
      "Training with params:                                                           \n",
      "{'colsample_bytree': 0.9500000000000001, 'eval_metric': 'merror', 'gamma': 0.87, 'learning_rate': 0.02, 'max_depth': 10.0, 'min_child_weight': 5.0, 'nthread': 4, 'num_class': 2, 'num_round': 100, 'objective': 'multi:softprob', 'silent': 1, 'subsample': 0.7000000000000001}\n",
      "[14:54:46] WARNING: ../src/learner.cc:541:                                      \n",
      "Parameters: { num_round, silent } might not be used.\n",
      "\n",
      "  This may not be accurate due to some parameters are only used in language bindings but\n",
      "  passed down to XGBoost core.  Or some parameters are not used but slip through this\n",
      "  verification. Please open an issue if you find above cases.\n",
      "\n",
      "\n",
      "\tScore 0.5253550626337529                                                       \n",
      "\n",
      "\n",
      "Training with params:                                                           \n",
      "{'colsample_bytree': 1.0, 'eval_metric': 'merror', 'gamma': 0.52, 'learning_rate': 0.01, 'max_depth': 6.0, 'min_child_weight': 9.0, 'nthread': 4, 'num_class': 2, 'num_round': 100, 'objective': 'multi:softprob', 'silent': 1, 'subsample': 0.9}\n",
      "[14:54:46] WARNING: ../src/learner.cc:541:                                      \n",
      "Parameters: { num_round, silent } might not be used.\n",
      "\n",
      "  This may not be accurate due to some parameters are only used in language bindings but\n",
      "  passed down to XGBoost core.  Or some parameters are not used but slip through this\n",
      "  verification. Please open an issue if you find above cases.\n",
      "\n",
      "\n",
      "\tScore 0.5877080440521241                                                       \n",
      "\n",
      "\n",
      "Training with params:                                                           \n",
      "{'colsample_bytree': 0.55, 'eval_metric': 'merror', 'gamma': 0.53, 'learning_rate': 0.015, 'max_depth': 8.0, 'min_child_weight': 7.0, 'nthread': 4, 'num_class': 2, 'num_round': 100, 'objective': 'multi:softprob', 'silent': 1, 'subsample': 0.65}\n",
      "[14:54:46] WARNING: ../src/learner.cc:541:                                      \n",
      "Parameters: { num_round, silent } might not be used.\n",
      "\n",
      "  This may not be accurate due to some parameters are only used in language bindings but\n",
      "  passed down to XGBoost core.  Or some parameters are not used but slip through this\n",
      "  verification. Please open an issue if you find above cases.\n",
      "\n",
      "\n",
      "\tScore 0.5580407425761222                                                       \n",
      "\n",
      "\n",
      "Training with params:                                                           \n",
      "{'colsample_bytree': 1.0, 'eval_metric': 'merror', 'gamma': 0.78, 'learning_rate': 0.015, 'max_depth': 8.0, 'min_child_weight': 1.0, 'nthread': 4, 'num_class': 2, 'num_round': 100, 'objective': 'multi:softprob', 'silent': 1, 'subsample': 0.55}\n",
      "[14:54:46] WARNING: ../src/learner.cc:541:                                      \n",
      "Parameters: { num_round, silent } might not be used.\n",
      "\n",
      "  This may not be accurate due to some parameters are only used in language bindings but\n",
      "  passed down to XGBoost core.  Or some parameters are not used but slip through this\n",
      "  verification. Please open an issue if you find above cases.\n",
      "\n",
      "\n",
      "\tScore 0.5243988111615181                                                       \n",
      "\n",
      "\n",
      "Training with params:                                                           \n",
      "{'colsample_bytree': 0.4, 'eval_metric': 'merror', 'gamma': 0.93, 'learning_rate': 0.04, 'max_depth': 8.0, 'min_child_weight': 4.0, 'nthread': 4, 'num_class': 2, 'num_round': 100, 'objective': 'multi:softprob', 'silent': 1, 'subsample': 0.6000000000000001}\n",
      "[14:54:46] WARNING: ../src/learner.cc:541:                                      \n",
      "Parameters: { num_round, silent } might not be used.\n",
      "\n",
      "  This may not be accurate due to some parameters are only used in language bindings but\n",
      "  passed down to XGBoost core.  Or some parameters are not used but slip through this\n",
      "  verification. Please open an issue if you find above cases.\n",
      "\n",
      "\n",
      "\tScore 0.497943215072155                                                        \n",
      "\n",
      "\n",
      "Training with params:                                                           \n",
      "{'colsample_bytree': 0.4, 'eval_metric': 'merror', 'gamma': 0.78, 'learning_rate': 0.005, 'max_depth': 13.0, 'min_child_weight': 8.0, 'nthread': 4, 'num_class': 2, 'num_round': 100, 'objective': 'multi:softprob', 'silent': 1, 'subsample': 0.65}\n",
      "[14:54:47] WARNING: ../src/learner.cc:541:                                     \n",
      "Parameters: { num_round, silent } might not be used.\n",
      "\n",
      "  This may not be accurate due to some parameters are only used in language bindings but\n",
      "  passed down to XGBoost core.  Or some parameters are not used but slip through this\n",
      "  verification. Please open an issue if you find above cases.\n",
      "\n",
      "\n",
      "\tScore 0.6275421291589737                                                      \n",
      "\n",
      "\n",
      "Training with params:                                                          \n",
      "{'colsample_bytree': 0.55, 'eval_metric': 'merror', 'gamma': 0.91, 'learning_rate': 0.025, 'max_depth': 6.0, 'min_child_weight': 4.0, 'nthread': 4, 'num_class': 2, 'num_round': 100, 'objective': 'multi:softprob', 'silent': 1, 'subsample': 0.75}\n",
      "[14:54:47] WARNING: ../src/learner.cc:541:                                     \n",
      "Parameters: { num_round, silent } might not be used.\n",
      "\n",
      "  This may not be accurate due to some parameters are only used in language bindings but\n",
      "  passed down to XGBoost core.  Or some parameters are not used but slip through this\n",
      "  verification. Please open an issue if you find above cases.\n",
      "\n",
      "\n",
      "\tScore 0.5016365438699723                                                      \n",
      "\n",
      "\n",
      "Training with params:                                                          \n",
      "{'colsample_bytree': 0.75, 'eval_metric': 'merror', 'gamma': 0.87, 'learning_rate': 0.02, 'max_depth': 12.0, 'min_child_weight': 2.0, 'nthread': 4, 'num_class': 2, 'num_round': 100, 'objective': 'multi:softprob', 'silent': 1, 'subsample': 0.8500000000000001}\n",
      "[14:54:47] WARNING: ../src/learner.cc:541:                                     \n",
      "Parameters: { num_round, silent } might not be used.\n",
      "\n",
      "  This may not be accurate due to some parameters are only used in language bindings but\n",
      "  passed down to XGBoost core.  Or some parameters are not used but slip through this\n",
      "  verification. Please open an issue if you find above cases.\n",
      "\n",
      "\n",
      "\tScore 0.5017197910696268                                                      \n",
      "\n",
      "\n",
      "Training with params:                                                          \n",
      "{'colsample_bytree': 0.75, 'eval_metric': 'merror', 'gamma': 0.56, 'learning_rate': 0.02, 'max_depth': 12.0, 'min_child_weight': 4.0, 'nthread': 4, 'num_class': 2, 'num_round': 100, 'objective': 'multi:softprob', 'silent': 1, 'subsample': 0.6000000000000001}\n",
      "[14:54:47] WARNING: ../src/learner.cc:541:                                     \n",
      "Parameters: { num_round, silent } might not be used.\n",
      "\n",
      "  This may not be accurate due to some parameters are only used in language bindings but\n",
      "  passed down to XGBoost core.  Or some parameters are not used but slip through this\n",
      "  verification. Please open an issue if you find above cases.\n",
      "\n",
      "\n",
      "\tScore 0.5156464323401451                                                      \n",
      "\n",
      "\n",
      "100%|██████████| 10/10 [00:01<00:00,  5.61trial/s, best loss: 0.497943215072155]\n"
     ]
    },
    {
     "data": {
      "text/plain": [
       "{'colsample_bytree': 0.4,\n",
       " 'eta': 0.04,\n",
       " 'gamma': 0.93,\n",
       " 'max_depth': 8.0,\n",
       " 'min_child_weight': 4.0,\n",
       " 'subsample': 0.6000000000000001}"
      ]
     },
     "execution_count": 118,
     "metadata": {},
     "output_type": "execute_result"
    }
   ],
   "source": [
    "from hyperopt import STATUS_OK, Trials, fmin, hp, tpe\n",
    "def optimize(trials):\n",
    "    space = {\n",
    "        \"num_round\": 100,\n",
    "        \"learning_rate\": hp.quniform(\"eta\", 0.005, 0.05, 0.005),\n",
    "        \"max_depth\": hp.quniform(\"max_depth\", 3, 14, 1),\n",
    "        \"min_child_weight\": hp.quniform(\"min_child_weight\", 1, 10, 1),\n",
    "        \"subsample\": hp.quniform(\"subsample\", 0.5, 1, 0.05),\n",
    "        \"gamma\": hp.quniform(\"gamma\", 0.5, 1, 0.01),\n",
    "        \"colsample_bytree\": hp.quniform(\"colsample_bytree\", 0.4, 1, 0.05),\n",
    "        \"num_class\": 2,\n",
    "        \"eval_metric\": \"merror\",\n",
    "        \"objective\": \"multi:softprob\",\n",
    "        \"nthread\": 4,\n",
    "        \"silent\": 1,\n",
    "    }\n",
    "\n",
    "    best = fmin(score, space, algo=tpe.suggest, trials=trials, max_evals=10)\n",
    "    return best\n",
    "def score(params):\n",
    "    from sklearn.metrics import log_loss\n",
    "    print(\"Training with params:\")\n",
    "    print(params)\n",
    "    params[\"max_depth\"] = int(params[\"max_depth\"])\n",
    "    dtrain = xgb.DMatrix(X_train, label=y_train)\n",
    "    dvalid = xgb.DMatrix(X_test, label=y_test)\n",
    "    model = xgb.train(params, dtrain, params[\"num_round\"])\n",
    "    predictions = model.predict(dvalid)\n",
    "    score = log_loss(y_test, predictions)\n",
    "    print(\"\\tScore {0}\\n\\n\".format(score))\n",
    "    return {\"loss\": score, \"status\": STATUS_OK}\n",
    "trials = Trials()\n",
    "best_params = optimize(trials)\n",
    "best_params"
   ]
  },
  {
   "cell_type": "code",
   "execution_count": 119,
   "metadata": {},
   "outputs": [],
   "source": [
    "best_params['max_depth'] = int(best_params['max_depth'])\n",
    "best_params[\"eval_metric\"] = \"merror\"\n",
    "best_params[\"num_class\"] = 2 \n",
    "dtrain = xgb.DMatrix(train, labels)"
   ]
  },
  {
   "cell_type": "code",
   "execution_count": 120,
   "metadata": {
    "scrolled": false
   },
   "outputs": [
    {
     "name": "stdout",
     "output_type": "stream",
     "text": [
      "CPU times: user 3.56 s, sys: 107 ms, total: 3.67 s\n",
      "Wall time: 472 ms\n"
     ]
    }
   ],
   "source": [
    "%%time\n",
    "xgbCvResult = xgb.cv(\n",
    "    best_params, dtrain, num_boost_round=500, nfold=3, early_stopping_rounds=60\n",
    ")"
   ]
  },
  {
   "cell_type": "code",
   "execution_count": 121,
   "metadata": {},
   "outputs": [
    {
     "data": {
      "image/png": "[encoded data removed]",
      "text/plain": [
       "<Figure size 432x288 with 1 Axes>"
      ]
     },
     "metadata": {
      "needs_background": "light"
     },
     "output_type": "display_data"
    }
   ],
   "source": [
    "plt.plot(range(xgbCvResult.shape[0]), xgbCvResult[\"test-merror-mean\"])\n",
    "plt.plot(range(xgbCvResult.shape[0]), xgbCvResult[\"train-merror-mean\"]);"
   ]
  },
  {
   "cell_type": "code",
   "execution_count": 122,
   "metadata": {},
   "outputs": [
    {
     "data": {
      "text/plain": [
       "65"
      ]
     },
     "execution_count": 122,
     "metadata": {},
     "output_type": "execute_result"
    }
   ],
   "source": [
    "best_num_round = np.argmin(xgbCvResult[\"test-merror-mean\"])\n",
    "best_num_round"
   ]
  },
  {
   "cell_type": "code",
   "execution_count": 123,
   "metadata": {},
   "outputs": [],
   "source": [
    "dtrain = xgb.DMatrix(X_train, y_train)\n",
    "bestXgb = xgb.train(best_params, dtrain, num_boost_round=best_num_round)"
   ]
  },
  {
   "cell_type": "code",
   "execution_count": 124,
   "metadata": {},
   "outputs": [],
   "source": [
    "dtest = xgb.DMatrix(X_test)\n",
    "xgboost_predict_proba = bestXgb.predict(dtest)\n",
    " "
   ]
  },
  {
   "cell_type": "code",
   "execution_count": 125,
   "metadata": {},
   "outputs": [],
   "source": [
    "from sklearn.metrics import roc_auc_score\n",
    "from sklearn.metrics import accuracy_score"
   ]
  },
  {
   "cell_type": "code",
   "execution_count": 126,
   "metadata": {},
   "outputs": [
    {
     "data": {
      "text/plain": [
       "0.6505376344086021"
      ]
     },
     "execution_count": 126,
     "metadata": {},
     "output_type": "execute_result"
    }
   ],
   "source": [
    "roc_auc_score(y_test.values, xgboost_predict_proba)"
   ]
  },
  {
   "cell_type": "code",
   "execution_count": 127,
   "metadata": {},
   "outputs": [
    {
     "data": {
      "text/plain": [
       "0.825"
      ]
     },
     "execution_count": 127,
     "metadata": {},
     "output_type": "execute_result"
    }
   ],
   "source": [
    "accuracy_score(y_test.values, xgboost_predict_proba)"
   ]
  },
  {
   "cell_type": "code",
   "execution_count": 128,
   "metadata": {},
   "outputs": [],
   "source": [
    "import pickle"
   ]
  },
  {
   "cell_type": "code",
   "execution_count": 129,
   "metadata": {},
   "outputs": [],
   "source": [
    "output = open('model.pkl', 'wb')\n",
    "pickle.dump(bestXgb, output, 2)\n",
    "output.close()"
   ]
  },
  {
   "cell_type": "code",
   "execution_count": 130,
   "metadata": {},
   "outputs": [],
   "source": [
    "input = open('model.pkl', 'rb')\n",
    "obj = pickle.load(input)\n",
    "input.close()"
   ]
  },
  {
   "cell_type": "code",
   "execution_count": 131,
   "metadata": {},
   "outputs": [
    {
     "data": {
      "text/plain": [
       "0.7311085972850678"
      ]
     },
     "execution_count": 131,
     "metadata": {},
     "output_type": "execute_result"
    }
   ],
   "source": [
    "train_predictions = obj.predict(  xgb.DMatrix(train) )\n",
    " \n",
    "roc_auc_score(labels, train_predictions)"
   ]
  },
  {
   "cell_type": "code",
   "execution_count": 132,
   "metadata": {},
   "outputs": [
    {
     "data": {
      "text/plain": [
       "0.8080808080808081"
      ]
     },
     "execution_count": 132,
     "metadata": {},
     "output_type": "execute_result"
    }
   ],
   "source": [
    "accuracy_score(labels, train_predictions)"
   ]
  },
  {
   "cell_type": "code",
   "execution_count": 134,
   "metadata": {},
   "outputs": [],
   "source": [
    "!python fair_example.py \"test_form.csv\"  \"ans.csv\""
   ]
  },
  {
   "cell_type": "code",
   "execution_count": null,
   "metadata": {},
   "outputs": [],
   "source": []
  }
 ],
 "metadata": {
  "kernelspec": {
   "display_name": "Python 3",
   "language": "python",
   "name": "python3"
  },
  "language_info": {
   "codemirror_mode": {
    "name": "ipython",
    "version": 3
   },
   "file_extension": ".py",
   "mimetype": "text/x-python",
   "name": "python",
   "nbconvert_exporter": "python",
   "pygments_lexer": "ipython3",
   "version": "3.8.5"
  }
 },
 "nbformat": 4,
 "nbformat_minor": 4
}
