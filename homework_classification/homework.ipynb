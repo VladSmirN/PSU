{
 "cells": [
  {
   "cell_type": "code",
   "execution_count": 1,
   "metadata": {},
   "outputs": [],
   "source": [
    "import pandas as pd\n",
    "df = pd.read_csv(\"form.csv\")\n"
   ]
  },
  {
   "cell_type": "code",
   "execution_count": 2,
   "metadata": {},
   "outputs": [],
   "source": [
    "import matplotlib.pyplot as plt\n",
    "from sklearn.metrics import roc_curve, auc"
   ]
  },
  {
   "cell_type": "code",
   "execution_count": 3,
   "metadata": {},
   "outputs": [],
   "source": [
    "def prepaer_df(df):\n",
    "    columns = ['time', 'sex', 'child_offence', 'vegan', 'dvach', 'gender', 'rest', 'games', 'series', 'books', 'antisemetism', 'subject', 'crimea', 'putin', 'english', 'old_days','films']\n",
    "    oldColumns = df.columns\n",
    "    df = df.rename(columns=dict(zip(oldColumns, columns)) )\n",
    "    df.time = pd.to_datetime(df.time)\n",
    "    df.loc[df.sex == 'Мальчик' ,['sex']] = 0\n",
    "    df.loc[df.sex == 'Девочка' ,['sex']] = 1\n",
    "    df.loc[df.rest == 'Сычевать' ,['rest']] = 1\n",
    "    df.loc[df.rest == 'Гулять' ,['rest']] = 0\n",
    "    df = pd.get_dummies(df, drop_first=True,columns=['child_offence', 'dvach', 'gender', 'antisemetism', 'subject', 'crimea' ])\n",
    "    df['putin_good'] = 0\n",
    "    df.loc[(df.putin == 'Политик, лидер и боец') | (df.putin == 'Молодец'),['putin_good']]=1\n",
    "    df['rebel'] = 1\n",
    "    df.loc[(df.putin == 'Политик, лидер и боец') | (df.putin == 'Молодец'),['rebel']]=0\n",
    "    df  =df.drop(columns=['putin'])\n",
    "    df['month'] = df['time'].dt.month\n",
    "    df['dayofweek'] = df['time'].dt.dayofweek\n",
    "    df['day'] = df['time'].dt.day\n",
    "    df['hour'] = df['time'].dt.hour\n",
    "    df.loc[df['english'] == 'Оригатоё гайзаймас', ['english']] = 0\n",
    "    df.loc[df['english'] == 'Чуть лучше, чем ничего', ['english']] = 1\n",
    "    df.loc[df['english'] == 'Нормально', ['english']] = 2\n",
    "    df.loc[df['english'] == 'Хорошо', ['english']] = 3\n",
    "    df.loc[df['english'] == 'Отлично', ['english']] = 4\n",
    "    df.loc[df['english'] == 'НЭЙТИВ ИНГЛИШ СПИКЕР', ['english']] = 5\n",
    "    df.loc[df['old_days'] == 'Нет', ['old_days']] = 0\n",
    "    df.loc[df['old_days'] != 'Нет', ['old_days']] = 1\n",
    "    return df"
   ]
  },
  {
   "cell_type": "code",
   "execution_count": 4,
   "metadata": {},
   "outputs": [],
   "source": [
    "df = prepaer_df(df)\n",
    "labels = df[\"films\"]\n",
    "labels = labels.apply(lambda x: 1 if x.find('Аниме')  != -1 else 0 )\n",
    "train = df.drop(columns=['films','time'])\n"
   ]
  },
  {
   "cell_type": "code",
   "execution_count": 5,
   "metadata": {},
   "outputs": [],
   "source": [
    "def show_predict(predict,target):\n",
    "    fpr, tpr, _ = roc_curve(  target,predict) \n",
    "    roc_auc  = auc(fpr , tpr )\n",
    "    \n",
    "    print('ROC curve (area = %0.2f)' % roc_auc)\n",
    "    return;\n",
    "    plt.figure()\n",
    "    lw = 2\n",
    "    plt.plot(fpr, tpr, color='darkorange',\n",
    "         lw=lw, label='ROC curve (area = %0.2f)' % roc_auc )\n",
    "    plt.plot([0, 1], [0, 1], color='navy', lw=lw, linestyle='--')\n",
    "    plt.xlim([0.0, 1.0])\n",
    "    plt.ylim([0.0, 1.05])\n",
    "    plt.xlabel('False Positive Rate')\n",
    "    plt.ylabel('True Positive Rate')\n",
    "    plt.title('Receiver operating characteristic example')\n",
    "    plt.legend(loc=\"lower right\")\n",
    "    plt.show()"
   ]
  },
  {
   "cell_type": "code",
   "execution_count": 10,
   "metadata": {},
   "outputs": [
    {
     "name": "stdout",
     "output_type": "stream",
     "text": [
      "==============================\n",
      "KNeighborsClassifier\n",
      "****Results****\n",
      "Accuracy: 52.5000%\n",
      "ROC curve (area = 0.46)\n",
      "Log Loss: 4.028043290984876\n",
      "==============================\n",
      "SVC\n",
      "****Results****\n",
      "Accuracy: 60.0000%\n",
      "ROC curve (area = 0.50)\n",
      "Log Loss: 0.6841334769166866\n",
      "==============================\n",
      "NuSVC\n",
      "****Results****\n",
      "Accuracy: 67.5000%\n",
      "ROC curve (area = 0.61)\n",
      "Log Loss: 0.6571213539563\n",
      "==============================\n",
      "DecisionTreeClassifier\n",
      "****Results****\n",
      "Accuracy: 60.0000%\n",
      "ROC curve (area = 0.57)\n",
      "Log Loss: 13.815510557964274\n",
      "==============================\n",
      "RandomForestClassifier\n",
      "****Results****\n",
      "Accuracy: 60.0000%\n",
      "ROC curve (area = 0.53)\n",
      "Log Loss: 0.7019848127711514\n",
      "==============================\n",
      "AdaBoostClassifier\n",
      "****Results****\n",
      "Accuracy: 70.0000%\n",
      "ROC curve (area = 0.67)\n",
      "Log Loss: 0.662517096493097\n",
      "==============================\n",
      "GradientBoostingClassifier\n",
      "****Results****\n",
      "Accuracy: 57.5000%\n",
      "ROC curve (area = 0.52)\n",
      "Log Loss: 0.8958087795441727\n",
      "==============================\n",
      "GaussianNB\n",
      "****Results****\n",
      "Accuracy: 50.0000%\n",
      "ROC curve (area = 0.57)\n",
      "Log Loss: 3.108366558805174\n",
      "==============================\n",
      "LinearDiscriminantAnalysis\n",
      "****Results****\n",
      "Accuracy: 67.5000%\n",
      "ROC curve (area = 0.65)\n",
      "Log Loss: 0.7186688779731634\n",
      "==============================\n",
      "QuadraticDiscriminantAnalysis\n",
      "****Results****\n",
      "Accuracy: 45.0000%\n",
      "ROC curve (area = 0.52)\n",
      "Log Loss: 13.16435506682526\n",
      "==============================\n"
     ]
    },
    {
     "name": "stderr",
     "output_type": "stream",
     "text": [
      "/opt/conda/lib/python3.8/site-packages/sklearn/discriminant_analysis.py:715: UserWarning: Variables are collinear\n",
      "  warnings.warn(\"Variables are collinear\")\n"
     ]
    }
   ],
   "source": [
    "# Поиск лучшей модели \n",
    "\n",
    "import time\n",
    " \n",
    "from sklearn.model_selection import train_test_split\n",
    "feature_train, feature_validate, target_train, target_validate = train_test_split(train, labels, test_size = 0.2, random_state =int(time.time())%20)\n",
    "\n",
    "from sklearn.metrics import accuracy_score, log_loss\n",
    "from sklearn.neighbors import KNeighborsClassifier\n",
    "from sklearn.svm import SVC, LinearSVC, NuSVC\n",
    "from sklearn.tree import DecisionTreeClassifier\n",
    "from sklearn.ensemble import RandomForestClassifier, AdaBoostClassifier, GradientBoostingClassifier\n",
    "from sklearn.naive_bayes import GaussianNB\n",
    "from sklearn.discriminant_analysis import LinearDiscriminantAnalysis\n",
    "from sklearn.discriminant_analysis import QuadraticDiscriminantAnalysis\n",
    "\n",
    "classifiers = [\n",
    "    KNeighborsClassifier(3),\n",
    "    SVC(kernel=\"rbf\", C=0.025, probability=True),\n",
    "    NuSVC(probability=True),\n",
    "    DecisionTreeClassifier(),\n",
    "    RandomForestClassifier(),\n",
    "    AdaBoostClassifier(),\n",
    "    GradientBoostingClassifier(),\n",
    "    GaussianNB(),\n",
    "    LinearDiscriminantAnalysis(),\n",
    "    QuadraticDiscriminantAnalysis()]\n",
    "\n",
    "# Logging for Visual Comparison\n",
    "log_cols=[\"Classifier\", \"Accuracy\", \"Log Loss\"]\n",
    "log = pd.DataFrame(columns=log_cols)\n",
    "\n",
    "for clf in classifiers:\n",
    "    clf.fit(feature_train, target_train)\n",
    "    name = clf.__class__.__name__\n",
    "    \n",
    "    print(\"=\"*30)\n",
    "    print(name)\n",
    "    \n",
    "    print('****Results****')\n",
    "    train_predictions = clf.predict(feature_validate )\n",
    "    acc = accuracy_score( target_validate, train_predictions)\n",
    "    print(\"Accuracy: {:.4%}\".format(acc))\n",
    "    \n",
    "    \n",
    "    show_predict(train_predictions,target_validate)\n",
    "    \n",
    "    \n",
    "    train_predictions = clf.predict_proba(feature_validate)\n",
    "    ll = log_loss(target_validate, train_predictions)\n",
    "    print(\"Log Loss: {}\".format(ll))\n",
    "    \n",
    "    log_entry = pd.DataFrame([[name, acc*100, ll]], columns=log_cols)\n",
    "    log = log.append(log_entry)\n",
    "    \n",
    "print(\"=\"*30)"
   ]
  },
  {
   "cell_type": "code",
   "execution_count": 7,
   "metadata": {},
   "outputs": [
    {
     "data": {
      "image/png": "[encoded data removed]",
      "text/plain": [
       "<Figure size 432x288 with 1 Axes>"
      ]
     },
     "metadata": {
      "needs_background": "light"
     },
     "output_type": "display_data"
    },
    {
     "data": {
      "image/png": "[encoded data removed]",
      "text/plain": [
       "<Figure size 432x288 with 1 Axes>"
      ]
     },
     "metadata": {
      "needs_background": "light"
     },
     "output_type": "display_data"
    }
   ],
   "source": [
    "import seaborn as sns\n",
    "sns.set_color_codes(\"muted\")\n",
    "sns.barplot(x='Accuracy', y='Classifier', data=log, color=\"b\")\n",
    "\n",
    "plt.xlabel('Accuracy %')\n",
    "plt.title('Classifier Accuracy')\n",
    "plt.show()\n",
    "\n",
    "sns.set_color_codes(\"muted\")\n",
    "sns.barplot(x='Log Loss', y='Classifier', data=log, color=\"g\")\n",
    "\n",
    "plt.xlabel('Log Loss')\n",
    "plt.title('Classifier Log Loss')\n",
    "plt.show()"
   ]
  },
  {
   "cell_type": "code",
   "execution_count": 8,
   "metadata": {},
   "outputs": [
    {
     "name": "stdout",
     "output_type": "stream",
     "text": [
      "==============================\n",
      "KNeighborsClassifier\n",
      "****Results****\n",
      "Accuracy: 79.7468%\n",
      "ROC curve (area = 0.72)\n",
      "Log Loss: 0.37904408121504823\n",
      "==============================\n",
      "SVC\n",
      "****Results****\n",
      "Accuracy: 67.7215%\n",
      "ROC curve (area = 0.50)\n",
      "Log Loss: 0.532851165147529\n",
      "==============================\n",
      "NuSVC\n",
      "****Results****\n",
      "Accuracy: 83.5443%\n",
      "ROC curve (area = 0.77)\n",
      "Log Loss: 0.476211253517499\n",
      "==============================\n",
      "DecisionTreeClassifier\n",
      "****Results****\n",
      "Accuracy: 100.0000%\n",
      "ROC curve (area = 1.00)\n",
      "Log Loss: 9.992007221626413e-16\n",
      "==============================\n",
      "RandomForestClassifier\n",
      "****Results****\n",
      "Accuracy: 100.0000%\n",
      "ROC curve (area = 1.00)\n",
      "Log Loss: 0.15426953787800818\n",
      "==============================\n",
      "AdaBoostClassifier\n",
      "****Results****\n",
      "Accuracy: 81.0127%\n",
      "ROC curve (area = 0.74)\n",
      "Log Loss: 0.6566549884240536\n",
      "==============================\n",
      "GradientBoostingClassifier\n",
      "****Results****\n",
      "Accuracy: 99.3671%\n",
      "ROC curve (area = 0.99)\n",
      "Log Loss: 0.1043498871136142\n",
      "==============================\n",
      "GaussianNB\n",
      "****Results****\n",
      "Accuracy: 42.4051%\n",
      "ROC curve (area = 0.56)\n",
      "Log Loss: 3.0446088613129403\n",
      "==============================\n",
      "LinearDiscriminantAnalysis\n",
      "****Results****\n",
      "Accuracy: 80.3797%\n",
      "ROC curve (area = 0.75)\n",
      "Log Loss: 0.46084144489329154\n",
      "==============================\n",
      "QuadraticDiscriminantAnalysis\n",
      "****Results****\n",
      "Accuracy: 51.8987%\n",
      "ROC curve (area = 0.64)\n",
      "Log Loss: 8.432117281548164\n",
      "==============================\n"
     ]
    }
   ],
   "source": [
    "for clf in classifiers:\n",
    "    #clf.fit(feature_train, target_train)\n",
    "    name = clf.__class__.__name__\n",
    "    \n",
    "    print(\"=\"*30)\n",
    "    print(name)\n",
    "    \n",
    "    print('****Results****')\n",
    "    train_predictions = clf.predict(feature_train )\n",
    "    acc = accuracy_score( target_train, train_predictions)\n",
    "    print(\"Accuracy: {:.4%}\".format(acc))\n",
    "    \n",
    "    \n",
    "    show_predict(train_predictions,target_train)\n",
    "    \n",
    "    \n",
    "    train_predictions = clf.predict_proba(feature_train)\n",
    "    ll = log_loss(target_train, train_predictions)\n",
    "    print(\"Log Loss: {}\".format(ll))\n",
    "    \n",
    "    log_entry = pd.DataFrame([[name, acc*100, ll]], columns=log_cols)\n",
    "    log = log.append(log_entry)\n",
    "    \n",
    "print(\"=\"*30)"
   ]
  },
  {
   "cell_type": "code",
   "execution_count": 23,
   "metadata": {},
   "outputs": [],
   "source": [
    "import pickle"
   ]
  },
  {
   "cell_type": "code",
   "execution_count": 28,
   "metadata": {},
   "outputs": [
    {
     "name": "stdout",
     "output_type": "stream",
     "text": [
      "Accuracy: 86.0759%\n",
      "ROC curve (area = 0.80)\n"
     ]
    }
   ],
   "source": [
    "clf =NuSVC(probability=True)\n",
    "clf.fit(train, labels)\n",
    "train_predictions = clf.predict(feature_train )\n",
    "acc = accuracy_score( target_train, train_predictions)\n",
    "print(\"Accuracy: {:.4%}\".format(acc))  \n",
    "show_predict(train_predictions,target_train)"
   ]
  },
  {
   "cell_type": "code",
   "execution_count": 29,
   "metadata": {},
   "outputs": [],
   "source": [
    "output = open('model.pkl', 'wb')\n",
    "pickle.dump(clf, output, 2)\n",
    "output.close()"
   ]
  },
  {
   "cell_type": "code",
   "execution_count": 30,
   "metadata": {},
   "outputs": [],
   "source": [
    "input = open('model.pkl', 'rb')\n",
    "obj = pickle.load(input)\n",
    "input.close()"
   ]
  },
  {
   "cell_type": "code",
   "execution_count": 31,
   "metadata": {},
   "outputs": [
    {
     "name": "stdout",
     "output_type": "stream",
     "text": [
      "Accuracy: 86.0759%\n",
      "ROC curve (area = 0.80)\n"
     ]
    }
   ],
   "source": [
    "train_predictions = obj.predict(feature_train )\n",
    "acc = accuracy_score( target_train, train_predictions)\n",
    "print(\"Accuracy: {:.4%}\".format(acc))  \n",
    "show_predict(train_predictions,target_train)"
   ]
  },
  {
   "cell_type": "code",
   "execution_count": 51,
   "metadata": {},
   "outputs": [],
   "source": [
    "#df = pd.read_csv(\"form.csv\")\n",
    "#df = df.drop(columns=['А какие жанры фильмов любишь? '])\n",
    "#df.to_csv('test_form.csv',index=False)"
   ]
  },
  {
   "cell_type": "code",
   "execution_count": 60,
   "metadata": {},
   "outputs": [],
   "source": [
    "!python fair_example.py \"test_form.csv\"  \"ans.csv\""
   ]
  },
  {
   "cell_type": "code",
   "execution_count": null,
   "metadata": {},
   "outputs": [],
   "source": []
  }
 ],
 "metadata": {
  "kernelspec": {
   "display_name": "Python 3",
   "language": "python",
   "name": "python3"
  },
  "language_info": {
   "codemirror_mode": {
    "name": "ipython",
    "version": 3
   },
   "file_extension": ".py",
   "mimetype": "text/x-python",
   "name": "python",
   "nbconvert_exporter": "python",
   "pygments_lexer": "ipython3",
   "version": "3.8.5"
  }
 },
 "nbformat": 4,
 "nbformat_minor": 4
}
