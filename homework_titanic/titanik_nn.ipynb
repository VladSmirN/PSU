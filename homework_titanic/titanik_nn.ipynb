{
  "nbformat": 4,
  "nbformat_minor": 0,
  "metadata": {
    "colab": {
      "name": "titanik-nn.ipynb",
      "provenance": [],
      "collapsed_sections": []
    },
    "kernelspec": {
      "name": "python3",
      "display_name": "Python 3"
    },
    "language_info": {
      "name": "python"
    },
    "accelerator": "GPU"
  },
  "cells": [
    {
      "cell_type": "code",
      "metadata": {
        "colab": {
          "base_uri": "https://localhost:8080/"
        },
        "id": "GIYWm0_xvhX9",
        "outputId": "29ff714b-3db4-4c16-e388-91d2955e918e"
      },
      "source": [
        "from google.colab import drive\n",
        "drive.mount('/content/drive')\n",
        "dirData = \"./drive/MyDrive/titanik/\""
      ],
      "execution_count": 1,
      "outputs": [
        {
          "output_type": "stream",
          "text": [
            "Mounted at /content/drive\n"
          ],
          "name": "stdout"
        }
      ]
    },
    {
      "cell_type": "code",
      "metadata": {
        "id": "Af4QO8FogCPK"
      },
      "source": [
        "import re\n",
        "import pandas as pd\n",
        "import datetime\n",
        "from sklearn.model_selection import train_test_split\n",
        "import torch\n",
        "import torchvision\n",
        "import torchvision.datasets as datasets\n",
        "import torch.utils.data as data_utils\n",
        "from torch.utils.data import DataLoader\n",
        "from os.path import exists\n",
        "import matplotlib.pyplot as plt\n",
        "from torch.utils.tensorboard import SummaryWriter\n",
        "import numpy as np\n",
        "batch_size = 256\n",
        "dtype = torch.float\n",
        "device = torch.device('cuda') if torch.cuda.is_available() else torch.device(\"cpu\")\n",
        "#%reload_ext tensorboard "
      ],
      "execution_count": 2,
      "outputs": []
    },
    {
      "cell_type": "code",
      "metadata": {
        "id": "7rwsI6-OZrCu"
      },
      "source": [
        ""
      ],
      "execution_count": null,
      "outputs": []
    },
    {
      "cell_type": "code",
      "metadata": {
        "id": "-wi6iIihJnax"
      },
      "source": [
        "#!unzip ./drive/MyDrive/titanik/titanic.zip -d ./drive/MyDrive/titanik/"
      ],
      "execution_count": null,
      "outputs": []
    },
    {
      "cell_type": "code",
      "metadata": {
        "colab": {
          "base_uri": "https://localhost:8080/"
        },
        "id": "dAHVI6JqLATK",
        "outputId": "20d329ef-6ec0-4889-bf3b-110081f3d80c"
      },
      "source": [
        "# load data\n",
        "train = pd.read_csv(dirData+\"/train.csv\")\n",
        "test = pd.read_csv(dirData+\"/test.csv\")\n",
        "gender_submission = pd.read_csv(dirData+\"/gender_submission.csv\")\n",
        "dataset = train.append(test, ignore_index=True)\n",
        "# replace Gender with 0 and 1  in test & train data\n",
        "\n",
        "dataset.Sex[dataset.Sex == 'male'] = 0 # repalce male with 0\n",
        "dataset.Sex[dataset.Sex == 'female'] = 1 # repalce female with 1\n",
        "# Convert Embarked into dummies using pd.get_dummies()\n",
        "dummies  = pd.get_dummies(dataset.Embarked)\n",
        "dataset = pd.concat([dataset,dummies],axis='columns')\n",
        "dataset.drop(['Embarked'],axis='columns',inplace=True)\n",
        "# replace Nan values of Cabin with U (Unknown)\n",
        "dataset.Cabin = dataset.Cabin.fillna('U')\n",
        "# Using Regex to find letters and categories better cabin \n",
        "dataset.Cabin = dataset.Cabin.map(lambda x:re.compile(\"([a-zA-Z])\").search(x).group())\n",
        "dataset.groupby('Cabin').size()\n",
        "# replace Cabins with numbers \n",
        "cabin_dictionary = {'A':1 , 'B':2, 'C':3 , 'D':4 , 'E':5 , 'F':6 , 'G':7 , 'T':8 , 'U':9}\n",
        "\n",
        "dataset = dataset.replace({'Cabin':cabin_dictionary})\n",
        "# combaine number of siblings and  spouses  to get  FamilySize \n",
        "dataset['FamilySize'] = dataset['SibSp'] + dataset['Parch'] + 1\n",
        "# replace missing Fare value of test data with median of Fares \n",
        "dataset.Fare = dataset.Fare.fillna(dataset.Fare.median())\n",
        "# drop unused columns of test and train data \n",
        "dataset = dataset.drop(['Name','SibSp', 'Parch', 'Ticket'], axis = 1)\n",
        "# split train  and test set \n",
        "train_main = dataset[dataset['Survived'].notna()] # train set Survived != null\n",
        "test_main  = dataset[dataset['Survived'].isnull()] # train set Survived == null\n",
        "# replace Missing values of age row with mean age of each Ticket class (Pclass) of train data\n",
        "def clean_training_age(columns) :\n",
        "    Age = columns[0]\n",
        "    Pclass = columns[1]\n",
        "    \n",
        "    if pd.isnull(Age):\n",
        "        if Pclass ==1 :\n",
        "            return 37\n",
        "        elif  Pclass == 2 :\n",
        "            return 29\n",
        "        else : \n",
        "            return 24\n",
        "    else : \n",
        "        return Age\n",
        "# replace Missing values of age  with mean age of each Ticket class (Pclass) of test data\n",
        "def clean_test_age(columns) :\n",
        "    Age = columns[0]\n",
        "    Pclass = columns[1]\n",
        "    \n",
        "    if pd.isnull(Age):\n",
        "        if Pclass ==1 :\n",
        "            return 44\n",
        "        elif  Pclass == 2 :\n",
        "            return 27\n",
        "        else : \n",
        "            return 23\n",
        "    else : \n",
        "        return Age\n",
        "# fill age missing values with mean age of each Pclass according to the  boxplot\n",
        "train_main.Age = train_main[['Age','Pclass']].apply(clean_training_age,axis=1) \n",
        "test_main.Age = test_main[['Age','Pclass']].apply(clean_test_age,axis=1) \n",
        "# drop Survived of  test data \n",
        "test_main.drop('Survived',axis =1,inplace=True)\n",
        "train_main.head()\n",
        "x_train = train_main.drop('Survived',axis=1) # independent\n",
        "y_train = train_main.Survived # dependent"
      ],
      "execution_count": 3,
      "outputs": [
        {
          "output_type": "stream",
          "text": [
            "/usr/local/lib/python3.7/dist-packages/ipykernel_launcher.py:8: SettingWithCopyWarning: \n",
            "A value is trying to be set on a copy of a slice from a DataFrame\n",
            "\n",
            "See the caveats in the documentation: https://pandas.pydata.org/pandas-docs/stable/user_guide/indexing.html#returning-a-view-versus-a-copy\n",
            "  \n",
            "/usr/local/lib/python3.7/dist-packages/ipykernel_launcher.py:9: SettingWithCopyWarning: \n",
            "A value is trying to be set on a copy of a slice from a DataFrame\n",
            "\n",
            "See the caveats in the documentation: https://pandas.pydata.org/pandas-docs/stable/user_guide/indexing.html#returning-a-view-versus-a-copy\n",
            "  if __name__ == '__main__':\n",
            "/usr/local/lib/python3.7/dist-packages/pandas/core/generic.py:5170: SettingWithCopyWarning: \n",
            "A value is trying to be set on a copy of a slice from a DataFrame.\n",
            "Try using .loc[row_indexer,col_indexer] = value instead\n",
            "\n",
            "See the caveats in the documentation: https://pandas.pydata.org/pandas-docs/stable/user_guide/indexing.html#returning-a-view-versus-a-copy\n",
            "  self[name] = value\n",
            "/usr/local/lib/python3.7/dist-packages/pandas/core/frame.py:4174: SettingWithCopyWarning: \n",
            "A value is trying to be set on a copy of a slice from a DataFrame\n",
            "\n",
            "See the caveats in the documentation: https://pandas.pydata.org/pandas-docs/stable/user_guide/indexing.html#returning-a-view-versus-a-copy\n",
            "  errors=errors,\n"
          ],
          "name": "stderr"
        }
      ]
    },
    {
      "cell_type": "code",
      "metadata": {
        "id": "K8HPxofn0mii"
      },
      "source": [
        "X_train, X_validate, y_train, y_validate = train_test_split( x_train, y_train, test_size=0.3, random_state=41)"
      ],
      "execution_count": 15,
      "outputs": []
    },
    {
      "cell_type": "code",
      "metadata": {
        "id": "nnYsFkCJMOEA"
      },
      "source": [
        "test = torch.tensor(test_main.values.astype(np.float32)).to(device)\n",
        "#DataLoader(data_utils.TensorDataset(X_train, y_train)  , batch_size=batch_size,shuffle=False)"
      ],
      "execution_count": 17,
      "outputs": []
    },
    {
      "cell_type": "code",
      "metadata": {
        "id": "yO3GjTHw82hc"
      },
      "source": [
        "y_train = torch.tensor(y_train.values.astype(np.float32)).to(device)\n",
        "X_train = torch.tensor(X_train.values.astype(np.float32)).to(device)\n",
        "y_validate = torch.tensor(y_validate.values.astype(np.float32)).to(device)\n",
        "X_validate = torch.tensor(X_validate.values.astype(np.float32)).to(device) \n",
        "y_validate = y_validate.unsqueeze(1)"
      ],
      "execution_count": 18,
      "outputs": []
    },
    {
      "cell_type": "code",
      "metadata": {
        "id": "KQhR7B4c1yN5"
      },
      "source": [
        "batch_size = 50\n",
        "train_loader = DataLoader(data_utils.TensorDataset(X_train, y_train)  , batch_size=batch_size,shuffle=True)\n",
        "validate_loader = DataLoader(data_utils.TensorDataset(X_validate, y_validate), batch_size=batch_size,shuffle=True)"
      ],
      "execution_count": 19,
      "outputs": []
    },
    {
      "cell_type": "code",
      "metadata": {
        "id": "l2dK_LNO2n12"
      },
      "source": [
        "model_default = torch.nn.Sequential(\n",
        "    torch.nn.Linear(10, 500),\n",
        "    torch.nn.ReLU(),\n",
        "    torch.nn.Dropout(p=0.2),\n",
        "    torch.nn.Linear(500, 1000),\n",
        "    torch.nn.ReLU(),\n",
        "    torch.nn.Dropout(p=0.2),\n",
        "    torch.nn.Linear(1000, 500),\n",
        "    torch.nn.ReLU(),\n",
        "    torch.nn.Dropout(p=0.2),\n",
        "\n",
        "    torch.nn.Linear(500, 1),\n",
        ").to(device)"
      ],
      "execution_count": 12,
      "outputs": []
    },
    {
      "cell_type": "code",
      "metadata": {
        "id": "5cTV-Enweu2U"
      },
      "source": [
        "\n",
        "def loss_plot(fig, ax, train_loss, test_loss, loss_name):\n",
        "    train_line = ax.plot(train_loss, color = 'black')\n",
        "    test_line = ax.plot(test_loss, color = 'red')\n",
        "    ax.set_xlabel('Эпоха')\n",
        "    ax.set_ylabel(loss_name)\n",
        "    ax.legend(('Тренировочная выборка', 'Тестовая выборка'))\n",
        "    fig.canvas.draw()"
      ],
      "execution_count": 20,
      "outputs": []
    },
    {
      "cell_type": "code",
      "metadata": {
        "id": "TgtFCJjm-y8w"
      },
      "source": [
        "from scipy.signal import savgol_filter\n",
        "from sklearn.utils import shuffle"
      ],
      "execution_count": null,
      "outputs": []
    },
    {
      "cell_type": "code",
      "metadata": {
        "colab": {
          "base_uri": "https://localhost:8080/",
          "height": 806
        },
        "id": "pg8WWNBU2x6W",
        "outputId": "2769f3e9-73f8-47d3-d8d9-dd4321c54e2c"
      },
      "source": [
        "lr = 0.000001 #скорость обучения\n",
        "\n",
        "#log_dir = dirData+ \"logdir/\" + datetime.datetime.now().strftime(\"%Y-%m-%d-%H-%M-%S\")\n",
        "#log_dir=log_dir+\"-lr=\"+str(lr)+\";\"\n",
        "#log_dir=log_dir+\"-bs=\"+str(batch_size)+\";\"\n",
        "#writer = SummaryWriter(log_dir)\n",
        "\n",
        "%matplotlib inline\n",
        "fig = plt.figure(figsize=(8,10))\n",
        "ax = fig.subplots(2,1)\n",
        "fig.tight_layout(pad=3.0)\n",
        "\n",
        "ax1, ax2 = ax\n",
        "train_loss = []\n",
        "test_loss = []\n",
        "train_acc = []\n",
        "test_acc = []\n",
        "epochs = 500\n",
        "\n",
        "\n",
        "\n",
        "optimizer = torch.optim.Adam(model_default.parameters(), lr = lr)\n",
        " \n",
        "cross_entropy = torch.nn.BCEWithLogitsLoss ()\n",
        "for i in range(epochs):\n",
        "    train_loss_epoch = 0\n",
        "    train_acc_epoch = 0\n",
        "    test_loss_epoch=0\n",
        "    for x, y in train_loader:\n",
        "        x, y = shuffle(x, y)\n",
        "        #x = torch.tensor(x)\n",
        "        #print(type(x))\n",
        "        #print(x)\n",
        "        y_hat = model_default(x)\n",
        "        #print(y_hat)\n",
        "\n",
        "        y = y.unsqueeze(1)\n",
        "        #print(y_hat, y)\n",
        "        loss = cross_entropy(y_hat, y)\n",
        "        train_loss_epoch += loss.item()\n",
        "        #print(y_hat,y)\n",
        "        train_acc_epoch += torch.mean((y == (y_hat>0.0).float()).float())\n",
        "        optimizer.zero_grad()\n",
        "        loss.backward()\n",
        "        optimizer.step()\n",
        "    train_loss.append(train_loss_epoch / len(train_loader))\n",
        "    train_acc.append(train_acc_epoch / len(train_loader))\n",
        "    \n",
        "    with torch.no_grad():\n",
        "            y_hat = model_default(X_validate)\n",
        "            #test_loss_epoch = cross_entropy(y_hat, y_validate)\n",
        "            test_loss.append(cross_entropy(y_hat, y_validate))\n",
        "            test_acc.append(\n",
        "                torch.mean((y_validate == (y_hat>0.0).float()).float()))\n",
        "            #test_acc.append(torch.mean((y_test == torch.argmax(y_hat, 1)).float()))\n",
        "    #writer.add_scalars('Loss', {'train':train_loss_epoch,'test':test_loss_epoch,}, i)\n",
        "    if i%100 ==0 :\n",
        "        print(i)\n",
        "            #test_loss.append(cross_entropy(y_hat, y_test))\n",
        "            #test_acc.append(\n",
        "                #torch.mean((y_test == torch.argmax(y_hat, 1)).float()))\n",
        "\n",
        "train_loss = savgol_filter(train_loss, window_length=31, polyorder=0)\n",
        "test_loss = savgol_filter(test_loss, window_length=31, polyorder=0)\n",
        "train_acc = savgol_filter(train_acc, window_length=31, polyorder=0)\n",
        "test_acc = savgol_filter(test_acc, window_length=31, polyorder=0)\n",
        "\n",
        "fig.suptitle('SGD', fontsize=16)\n",
        "loss_plot(fig,ax1,train_loss, test_loss, \"Кросс-энтропия\")\n",
        "loss_plot(fig,ax2,train_acc,test_acc  , \"Точность\")\n",
        "#writer.close()"
      ],
      "execution_count": null,
      "outputs": [
        {
          "output_type": "stream",
          "text": [
            "0\n",
            "100\n",
            "200\n",
            "300\n",
            "400\n"
          ],
          "name": "stdout"
        },
        {
          "output_type": "display_data",
          "data": {
            "image/png": "[encoded data removed]",
            "text/plain": [
              "<Figure size 576x720 with 2 Axes>"
            ]
          },
          "metadata": {
            "tags": [],
            "needs_background": "light"
          }
        }
      ]
    },
    {
      "cell_type": "code",
      "metadata": {
        "id": "CnEC5QojVILZ"
      },
      "source": [
        "#!rm -rf ./logdir/ "
      ],
      "execution_count": null,
      "outputs": []
    },
    {
      "cell_type": "code",
      "metadata": {
        "colab": {
          "base_uri": "https://localhost:8080/"
        },
        "id": "_ALW1igsahkH",
        "outputId": "1d9e5e75-10f2-4cee-9af6-c17e14cade9a"
      },
      "source": [
        "!ls ./drive/MyDrive/titanik/model/2021-05-24-17-59-14"
      ],
      "execution_count": 10,
      "outputs": [
        {
          "output_type": "stream",
          "text": [
            "2021-05-24-17-59-14\n"
          ],
          "name": "stdout"
        }
      ]
    },
    {
      "cell_type": "code",
      "metadata": {
        "id": "vXIghcs4heSQ"
      },
      "source": [
        "PATH = dirData+\"model/\"+datetime.datetime.now().strftime(\"%Y-%m-%d-%H-%M-%S\")"
      ],
      "execution_count": 8,
      "outputs": []
    },
    {
      "cell_type": "code",
      "metadata": {
        "id": "Qx8PaPYEMPN3",
        "colab": {
          "base_uri": "https://localhost:8080/"
        },
        "outputId": "bed04962-a8c1-45cd-aab0-6f3362fdc6f0"
      },
      "source": [
        "\n",
        "#model_default.load_state_dict(torch.load(\"./drive/MyDrive/titanik/model/2021-05-24-17-59-14\"))\n"
      ],
      "execution_count": 13,
      "outputs": [
        {
          "output_type": "execute_result",
          "data": {
            "text/plain": [
              "<All keys matched successfully>"
            ]
          },
          "metadata": {
            "tags": []
          },
          "execution_count": 13
        }
      ]
    },
    {
      "cell_type": "code",
      "metadata": {
        "colab": {
          "base_uri": "https://localhost:8080/",
          "height": 34
        },
        "id": "tX1IsRTmhk-l",
        "outputId": "d725a75a-21c1-49d8-bfae-edd28616492c"
      },
      "source": [
        "PATH"
      ],
      "execution_count": null,
      "outputs": [
        {
          "output_type": "execute_result",
          "data": {
            "application/vnd.google.colaboratory.intrinsic+json": {
              "type": "string"
            },
            "text/plain": [
              "'./drive/MyDrive/titanik/model/2021-05-24-17-59-14'"
            ]
          },
          "metadata": {
            "tags": []
          },
          "execution_count": 128
        }
      ]
    },
    {
      "cell_type": "code",
      "metadata": {
        "id": "q-Nw-i1IhROH"
      },
      "source": [
        "torch.save(model_default.state_dict(), PATH)"
      ],
      "execution_count": null,
      "outputs": []
    },
    {
      "cell_type": "code",
      "metadata": {
        "colab": {
          "base_uri": "https://localhost:8080/"
        },
        "id": "eDhQfo3YiUFV",
        "outputId": "7cd0d2bd-c3d1-4e0c-b917-82c977e6a69e"
      },
      "source": [
        "!ls ./drive/MyDrive/titanik/"
      ],
      "execution_count": null,
      "outputs": [
        {
          "output_type": "stream",
          "text": [
            "gender_submission.csv  logdir  model  test.csv\ttitanic.zip  train.csv\n"
          ],
          "name": "stdout"
        }
      ]
    },
    {
      "cell_type": "code",
      "metadata": {
        "id": "Iq54a7uohdX1"
      },
      "source": [
        ""
      ],
      "execution_count": null,
      "outputs": []
    },
    {
      "cell_type": "code",
      "metadata": {
        "id": "bj_uxwQp87kB"
      },
      "source": [
        "y_hat = model_default(test)"
      ],
      "execution_count": 21,
      "outputs": []
    },
    {
      "cell_type": "code",
      "metadata": {
        "id": "_q3W4zeV88Zd"
      },
      "source": [
        "y_hat > 0 "
      ],
      "execution_count": null,
      "outputs": []
    },
    {
      "cell_type": "code",
      "metadata": {
        "colab": {
          "base_uri": "https://localhost:8080/"
        },
        "id": "gmji7FajL12G",
        "outputId": "e838a3b2-6471-4dae-bb7b-6fab3d6e9f64"
      },
      "source": [
        "device"
      ],
      "execution_count": null,
      "outputs": [
        {
          "output_type": "execute_result",
          "data": {
            "text/plain": [
              "device(type='cuda')"
            ]
          },
          "metadata": {
            "tags": []
          },
          "execution_count": 11
        }
      ]
    },
    {
      "cell_type": "code",
      "metadata": {
        "id": "IK6hN6EReRDv"
      },
      "source": [
        "#gender_submission[pd.Series ((y_hat > 0 ).reshape(-1).cpu().numpy())] "
      ],
      "execution_count": null,
      "outputs": []
    },
    {
      "cell_type": "code",
      "metadata": {
        "id": "kvL9wmWVkH_B"
      },
      "source": [
        "gender_submission[\"Survived\"] = gender_submission[\"Survived\"].astype(int)"
      ],
      "execution_count": 76,
      "outputs": []
    },
    {
      "cell_type": "code",
      "metadata": {
        "id": "dPv21ysLkLN6"
      },
      "source": [
        " \n",
        "gender_submission.to_csv(\"ans.csv\" ,index=False)"
      ],
      "execution_count": 80,
      "outputs": []
    },
    {
      "cell_type": "code",
      "metadata": {
        "id": "AonW-2unkg3c"
      },
      "source": [
        ""
      ],
      "execution_count": null,
      "outputs": []
    }
  ]
}