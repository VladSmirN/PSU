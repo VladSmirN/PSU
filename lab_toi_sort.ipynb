{
 "cells": [
  {
   "cell_type": "code",
   "execution_count": 1,
   "metadata": {},
   "outputs": [],
   "source": [
    "m = [1, 7, 4, 3, 12, 11, 9, 18, 5, 2, 7, 15, 14, 6, 8, 21, 19, 13, 10, 20, 17, 16, 25, 22, 27, 24]\n",
    "N = len(m)\n"
   ]
  },
  {
   "cell_type": "code",
   "execution_count": 2,
   "metadata": {},
   "outputs": [],
   "source": [
    "# [1,2,3,1,2,3] => [[1,2,3],[1,2,3]]\n",
    "def getRiseSequences(mas):\n",
    "    c = 1\n",
    "    p=[]\n",
    "    a = []\n",
    "    for i in range(N):\n",
    "        p.append(mas[i])\n",
    "        if i == N-1 :\n",
    "            a.append(p)\n",
    "        elif  mas[i] < mas[i+1] :\n",
    "            a.append(p)\n",
    "            p=[]\n",
    "            c+=1\n",
    " \n",
    "    return a"
   ]
  },
  {
   "cell_type": "code",
   "execution_count": 3,
   "metadata": {},
   "outputs": [],
   "source": [
    "# [1,2,3] + [4,5,6] => [1,2,3,4,5,6]\n",
    "def mergeSequences(mas1,mas2):\n",
    "    ans = []\n",
    "    i,j = 0,0\n",
    "    while i<len(mas1) or j<len(mas2) :\n",
    "        if i >= len(mas1):\n",
    "            ans.append(mas2[j])\n",
    "            j+=1\n",
    "            continue\n",
    "        if j >= len(mas2):\n",
    "            ans.append(mas1[i])\n",
    "            i+=1 \n",
    "            continue\n",
    "        if mas1[i]>mas2[j]:\n",
    "            ans.append(mas1[i])\n",
    "            i+=1\n",
    "        else:\n",
    "            ans.append(mas2[j])\n",
    "            j+=1\n",
    "    return ans"
   ]
  },
  {
   "cell_type": "code",
   "execution_count": 4,
   "metadata": {},
   "outputs": [],
   "source": [
    "def fib_max(max_sum):\n",
    "    f1 = 1\n",
    "    f2 = 1\n",
    "    while(f1 < max_sum):\n",
    "        fk = f1\n",
    "        f1 = f1 + f2\n",
    "        f2 = fk    \n",
    "    return f1-f2,f2\n",
    "\n",
    "# parametr a - куда сливать  b - больший массив для слияния  с - меньший массив для слияния\n",
    "# return a - слитый  b - остаток с - пустой\n",
    "def fib_step(a,b,c):\n",
    "    a = []   \n",
    "    for i in range (len(c)):\n",
    "        a.append(mergeSequences(c[i],b[i])) \n",
    "    if -(len(b)-len(c)) != 0 :\n",
    "        b =  b[-(len(b)-len(c)):]\n",
    "    else :\n",
    "        b = []\n",
    "    c = []\n",
    "    return a,b,c"
   ]
  },
  {
   "cell_type": "code",
   "execution_count": 5,
   "metadata": {},
   "outputs": [
    {
     "data": {
      "text/plain": [
       "(5, 8)"
      ]
     },
     "execution_count": 5,
     "metadata": {},
     "output_type": "execute_result"
    }
   ],
   "source": [
    "a = getRiseSequences(m)\n",
    "fib_n = fib_max(len(a))\n",
    "b = a[0:fib_n[1]]\n",
    "c = a[fib_n[1]:]\n",
    "while len(c) != fib_n[0]:\n",
    "    c.append([])\n",
    "fib_n"
   ]
  },
  {
   "cell_type": "code",
   "execution_count": 6,
   "metadata": {},
   "outputs": [
    {
     "name": "stdout",
     "output_type": "stream",
     "text": [
      "[[1], [7, 4, 3], [12, 11, 9], [18, 5, 2], [7], [15, 14, 6], [8], [21, 19, 13, 10], [20, 17, 16], [25, 22], [27, 24]]\n",
      "[[1], [7, 4, 3], [12, 11, 9], [18, 5, 2], [7], [15, 14, 6], [8], [21, 19, 13, 10]]\n",
      "[[20, 17, 16], [25, 22], [27, 24], [], []]\n"
     ]
    }
   ],
   "source": [
    "print(a)  # A.dat\n",
    "print(b)  # B.dat\n",
    "print(c)  # C.dat"
   ]
  },
  {
   "cell_type": "code",
   "execution_count": 7,
   "metadata": {},
   "outputs": [
    {
     "name": "stdout",
     "output_type": "stream",
     "text": [
      "[[20, 17, 16, 1], [25, 22, 7, 4, 3], [27, 24, 12, 11, 9], [18, 5, 2], [7]]\n",
      "[[15, 14, 6], [8], [21, 19, 13, 10]]\n",
      "[]\n"
     ]
    }
   ],
   "source": [
    "a,b,c = fib_step(a,b,c)\n",
    "print(a)\n",
    "print(b)\n",
    "print(c)"
   ]
  },
  {
   "cell_type": "code",
   "execution_count": 8,
   "metadata": {},
   "outputs": [
    {
     "name": "stdout",
     "output_type": "stream",
     "text": [
      "[[18, 5, 2], [7]]\n",
      "[]\n",
      "[[20, 17, 16, 15, 14, 6, 1], [25, 22, 8, 7, 4, 3], [27, 24, 21, 19, 13, 12, 11, 10, 9]]\n"
     ]
    }
   ],
   "source": [
    "c,a,b = fib_step(c,a,b)\n",
    "print(a)\n",
    "print(b)\n",
    "print(c)"
   ]
  },
  {
   "cell_type": "code",
   "execution_count": 9,
   "metadata": {},
   "outputs": [
    {
     "name": "stdout",
     "output_type": "stream",
     "text": [
      "[]\n",
      "[[20, 18, 17, 16, 15, 14, 6, 5, 2, 1], [25, 22, 8, 7, 7, 4, 3]]\n",
      "[[27, 24, 21, 19, 13, 12, 11, 10, 9]]\n"
     ]
    }
   ],
   "source": [
    "b,c,a = fib_step(b,c,a)\n",
    "print(a)\n",
    "print(b)\n",
    "print(c)"
   ]
  },
  {
   "cell_type": "code",
   "execution_count": 10,
   "metadata": {},
   "outputs": [
    {
     "name": "stdout",
     "output_type": "stream",
     "text": [
      "[[27, 24, 21, 20, 19, 18, 17, 16, 15, 14, 13, 12, 11, 10, 9, 6, 5, 2, 1]]\n",
      "[[25, 22, 8, 7, 7, 4, 3]]\n",
      "[]\n"
     ]
    }
   ],
   "source": [
    "a,b,c = fib_step(a,b,c)\n",
    "print(a)\n",
    "print(b)\n",
    "print(c)"
   ]
  },
  {
   "cell_type": "code",
   "execution_count": 11,
   "metadata": {},
   "outputs": [
    {
     "name": "stdout",
     "output_type": "stream",
     "text": [
      "[]\n",
      "[]\n",
      "[[27, 25, 24, 22, 21, 20, 19, 18, 17, 16, 15, 14, 13, 12, 11, 10, 9, 8, 7, 7, 6, 5, 4, 3, 2, 1]]\n"
     ]
    }
   ],
   "source": [
    "c,a,b = fib_step(c,a,b)\n",
    "print(a)\n",
    "print(b)\n",
    "print(c)"
   ]
  },
  {
   "cell_type": "code",
   "execution_count": 12,
   "metadata": {},
   "outputs": [
    {
     "name": "stdout",
     "output_type": "stream",
     "text": [
      "[]\n",
      "[]\n",
      "[[27, 25, 24, 22, 21, 20, 19, 18, 17, 16, 15, 14, 13, 12, 11, 10, 9, 8, 7, 7, 6, 5, 4, 3, 2, 1]]\n"
     ]
    }
   ],
   "source": [
    "b,c,a = fib_step(b,c,a)\n",
    "print(a)\n",
    "print(b)\n",
    "print(c)"
   ]
  },
  {
   "cell_type": "code",
   "execution_count": null,
   "metadata": {},
   "outputs": [],
   "source": []
  }
 ],
 "metadata": {
  "kernelspec": {
   "display_name": "Python 3",
   "language": "python",
   "name": "python3"
  },
  "language_info": {
   "codemirror_mode": {
    "name": "ipython",
    "version": 3
   },
   "file_extension": ".py",
   "mimetype": "text/x-python",
   "name": "python",
   "nbconvert_exporter": "python",
   "pygments_lexer": "ipython3",
   "version": "3.8.3"
  }
 },
 "nbformat": 4,
 "nbformat_minor": 4
}
