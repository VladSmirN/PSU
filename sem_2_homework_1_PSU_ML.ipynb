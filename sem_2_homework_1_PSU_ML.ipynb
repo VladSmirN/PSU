{
 "cells": [
  {
   "cell_type": "markdown",
   "metadata": {
    "id": "3zU3Y8bCEsoD"
   },
   "source": [
    "Задание 1"
   ]
  },
  {
   "cell_type": "code",
   "execution_count": 1,
   "metadata": {
    "id": "PFe5MuQBE2oK"
   },
   "outputs": [],
   "source": [
    "import numpy as np"
   ]
  },
  {
   "cell_type": "code",
   "execution_count": 2,
   "metadata": {
    "colab": {
     "base_uri": "https://localhost:8080/"
    },
    "id": "Xa9K3s7NDG8u",
    "outputId": "535ead93-7285-47b1-e295-9a6f4fa85736"
   },
   "outputs": [
    {
     "data": {
      "text/plain": [
       "array([[0, 1, 0, 1, 0, 1, 0, 1, 0, 1],\n",
       "       [1, 0, 1, 0, 1, 0, 1, 0, 1, 0],\n",
       "       [0, 1, 0, 1, 0, 1, 0, 1, 0, 1],\n",
       "       [1, 0, 1, 0, 1, 0, 1, 0, 1, 0],\n",
       "       [0, 1, 0, 1, 0, 1, 0, 1, 0, 1],\n",
       "       [1, 0, 1, 0, 1, 0, 1, 0, 1, 0],\n",
       "       [0, 1, 0, 1, 0, 1, 0, 1, 0, 1],\n",
       "       [1, 0, 1, 0, 1, 0, 1, 0, 1, 0],\n",
       "       [0, 1, 0, 1, 0, 1, 0, 1, 0, 1],\n",
       "       [1, 0, 1, 0, 1, 0, 1, 0, 1, 0]])"
      ]
     },
     "execution_count": 2,
     "metadata": {},
     "output_type": "execute_result"
    }
   ],
   "source": [
    "#1\n",
    "N=10\n",
    "np.array([ np.array([ (i+j)%2 for j in range(N)]) for i in range(N)])"
   ]
  },
  {
   "cell_type": "code",
   "execution_count": 3,
   "metadata": {
    "colab": {
     "base_uri": "https://localhost:8080/"
    },
    "id": "oizitqH3K7vr",
    "outputId": "d4ef2d96-027f-4bf2-927c-6de8596a21b4"
   },
   "outputs": [
    {
     "name": "stdout",
     "output_type": "stream",
     "text": [
      "угол через косинус: 0.08920534354754166\n",
      "угол через синус: 0.0892053435475418\n"
     ]
    }
   ],
   "source": [
    "#2\n",
    "a = np.array([1.0, 2.0, 5.0])\n",
    "b = np.array([1., 2., 4.])\n",
    "scalar = np.dot(a,b)\n",
    "vector = np.cross(a,b)\n",
    "print(\"угол через косинус:\",np.arccos(scalar / (np.linalg.norm(a) * np.linalg.norm(b)) ) )\n",
    "print(\"угол через синус:\",np.arcsin(np.linalg.norm(vector) / (np.linalg.norm(a) * np.linalg.norm(b)) ))"
   ]
  },
  {
   "cell_type": "code",
   "execution_count": 4,
   "metadata": {
    "colab": {
     "base_uri": "https://localhost:8080/"
    },
    "id": "8u1C9L5sRfRX",
    "outputId": "37d511f5-db1d-422d-f3c2-3487b5236e8a"
   },
   "outputs": [
    {
     "data": {
      "text/plain": [
       "array([ 4,  6,  7,  8,  9, 11, 12, 13, 18, 21, 26, 32, 33, 35, 37, 41, 47,\n",
       "       49, 52, 54, 60, 64, 65, 68, 72, 73, 75, 78, 79, 89, 90, 95, 96])"
      ]
     },
     "execution_count": 4,
     "metadata": {},
     "output_type": "execute_result"
    }
   ],
   "source": [
    "#3\n",
    "a = np.random.randint(1, 100, size = (4, 4,2,2))\n",
    "b = np.random.randint(1, 100, size = (4, 4,4,2))\n",
    "np.intersect1d(a.flatten(), b.flatten())"
   ]
  },
  {
   "cell_type": "code",
   "execution_count": 5,
   "metadata": {
    "colab": {
     "base_uri": "https://localhost:8080/"
    },
    "id": "ZO-FDJNGWUFD",
    "outputId": "2fbb87e7-1dfe-45ad-ff17-20b5f90e8baf"
   },
   "outputs": [
    {
     "data": {
      "text/plain": [
       "array([[-1.26938084],\n",
       "       [ 0.01731607],\n",
       "       [ 0.65143979],\n",
       "       [ 0.04813075],\n",
       "       [ 0.80833635]])"
      ]
     },
     "execution_count": 5,
     "metadata": {},
     "output_type": "execute_result"
    }
   ],
   "source": [
    "#4\n",
    "N = 5\n",
    "A = np.random.random( size = (N, N))\n",
    "b = np.random.random( size = (N,1))\n",
    "np.linalg.solve(A,b)"
   ]
  },
  {
   "cell_type": "markdown",
   "metadata": {
    "id": "cG6XlGHkc98E"
   },
   "source": [
    "Задание 2"
   ]
  },
  {
   "cell_type": "code",
   "execution_count": 15,
   "metadata": {
    "id": "SNmbHYWniDVP"
   },
   "outputs": [],
   "source": [
    "sizeImage = 28 \n",
    "N = 10\n",
    "data =  np.array([ np.random.random( size = (1, sizeImage,sizeImage)) for i in range(N) ]) \n",
    "class generator:\n",
    "   def __init__(self, data, sizeBatch,takeLastElement):\n",
    "        self.data = data\n",
    "        self.sizeBatch = sizeBatch\n",
    "        self.takeLastElement = takeLastElement\n",
    "        self.position = 0 \n",
    "   def __iter__(self):\n",
    "        return self\n",
    "   def get_next_batch(self):\n",
    "     fragment = self.data[self.position:self.position+self.sizeBatch]\n",
    "     self.position = self.position + self.sizeBatch\n",
    "     return fragment\n",
    "   def __next__(self):\n",
    "        fragment = self.get_next_batch()\n",
    "        if fragment.shape[0] < self.sizeBatch :\n",
    "           if self.takeLastElement and fragment.shape[0]>0 :\n",
    "             return fragment\n",
    "           raise StopIteration\n",
    "        return fragment\n",
    "dataset1 = generator(data,3,True)\n",
    "dataset2 = generator(data,4,False)"
   ]
  },
  {
   "cell_type": "code",
   "execution_count": 16,
   "metadata": {
    "colab": {
     "base_uri": "https://localhost:8080/"
    },
    "id": "DxWZ3izd1Ek4",
    "outputId": "8ef3c8f5-4026-4498-b68a-9fa939728d45"
   },
   "outputs": [
    {
     "name": "stdout",
     "output_type": "stream",
     "text": [
      "(3, 1, 28, 28)\n",
      "(3, 1, 28, 28)\n",
      "(3, 1, 28, 28)\n",
      "(1, 1, 28, 28)\n"
     ]
    }
   ],
   "source": [
    "for features in dataset1:\n",
    "  print(features.shape)\n",
    " "
   ]
  },
  {
   "cell_type": "code",
   "execution_count": 17,
   "metadata": {
    "colab": {
     "base_uri": "https://localhost:8080/"
    },
    "id": "br6ow4Xn4pIu",
    "outputId": "3aab7d10-87ce-4c02-9e5b-3ef3f46eaf70"
   },
   "outputs": [
    {
     "name": "stdout",
     "output_type": "stream",
     "text": [
      "(4, 1, 28, 28)\n",
      "(4, 1, 28, 28)\n"
     ]
    }
   ],
   "source": [
    "for features in dataset2:\n",
    "  print(features.shape)"
   ]
  },
  {
   "cell_type": "code",
   "execution_count": null,
   "metadata": {},
   "outputs": [],
   "source": []
  }
 ],
 "metadata": {
  "colab": {
   "collapsed_sections": [],
   "name": "sem_2_homework_1.ipynb",
   "provenance": []
  },
  "kernelspec": {
   "display_name": "Python 3",
   "language": "python",
   "name": "python3"
  },
  "language_info": {
   "codemirror_mode": {
    "name": "ipython",
    "version": 3
   },
   "file_extension": ".py",
   "mimetype": "text/x-python",
   "name": "python",
   "nbconvert_exporter": "python",
   "pygments_lexer": "ipython3",
   "version": "3.8.5"
  }
 },
 "nbformat": 4,
 "nbformat_minor": 1
}
